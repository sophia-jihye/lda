{
 "cells": [
  {
   "cell_type": "code",
   "execution_count": 1,
   "metadata": {
    "collapsed": true
   },
   "outputs": [],
   "source": [
    "from collections import Counter\n",
    "import random\n",
    "\n",
    "def p_topic_given_document(topic, d, alpha=0.1):\n",
    "    return ((document_topic_counts[d][topic] + alpha) /\n",
    "            (document_lengths[d] + K * alpha))\n",
    "\n",
    "def p_word_given_topic(word, topic, beta=0.1):\n",
    "    return ((topic_word_counts[topic][word] + beta) /\n",
    "            (topic_counts[topic] + V * beta))\n",
    "\n",
    "def topic_weight(d, word, k):\n",
    "    return p_word_given_topic(word, k) * p_topic_given_document(k, d)\n",
    "\n",
    "def choose_new_topic(d, word):\n",
    "    return sample_from([topic_weight(d, word, k) for k in range(K)])\n",
    "\n",
    "def sample_from(weights):\n",
    "    total = sum(weights)\n",
    "    rnd = total * random.random()\n",
    "    for i, w in enumerate(weights):\n",
    "        rnd -= w\n",
    "        if rnd <= 0:\n",
    "            return i\n",
    "\n",
    "documents = [[\"Hadoop\", \"Big Data\", \"HBase\", \"Java\", \"Spark\", \"Storm\", \"Cassandra\"],\n",
    "    [\"NoSQL\", \"MongoDB\", \"Cassandra\", \"HBase\", \"Postgres\"],\n",
    "    [\"Python\", \"scikit-learn\", \"scipy\", \"numpy\", \"statsmodels\", \"pandas\"],\n",
    "    [\"R\", \"Python\", \"statistics\", \"regression\", \"probability\"],\n",
    "    [\"machine learning\", \"regression\", \"decision trees\", \"libsvm\"],\n",
    "    [\"Python\", \"R\", \"Java\", \"C++\", \"Haskell\", \"programming languages\"],\n",
    "    [\"statistics\", \"probability\", \"mathematics\", \"theory\"],\n",
    "    [\"machine learning\", \"scikit-learn\", \"Mahout\", \"neural networks\"],\n",
    "    [\"neural networks\", \"deep learning\", \"Big Data\", \"artificial intelligence\"],\n",
    "    [\"Hadoop\", \"Java\", \"MapReduce\", \"Big Data\"],\n",
    "    [\"statistics\", \"R\", \"statsmodels\"],\n",
    "    [\"C++\", \"deep learning\", \"artificial intelligence\", \"probability\"],\n",
    "    [\"pandas\", \"R\", \"Python\"],\n",
    "    [\"databases\", \"HBase\", \"Postgres\", \"MySQL\", \"MongoDB\"],\n",
    "    [\"libsvm\", \"regression\", \"support vector machines\"]]\n",
    "\n",
    "random.seed(0)\n",
    "K=4\n",
    "document_topics = [[random.randrange(K) for word in document]\n",
    "                    for document in documents]\n",
    "document_topic_counts = [Counter() for _ in documents]\n",
    "topic_word_counts = [Counter() for _ in range(K)]\n",
    "topic_counts = [0 for _ in range(K)]\n",
    "document_lengths = [len(document) for document in documents]\n",
    "distinct_words = set(word for document in documents for word in document)\n",
    "V = len(distinct_words)\n",
    "D = len(documents)\n",
    "\n",
    "for d in range(D):\n",
    "    for word, topic in zip(documents[d], document_topics[d]):\n",
    "        document_topic_counts[d][topic] += 1\n",
    "        topic_word_counts[topic][word] += 1\n",
    "        topic_counts[topic] += 1\n",
    "\n",
    "for iter in range(1000):\n",
    "    for d in range(D):\n",
    "        for i, (word, topic) in enumerate(zip(documents[d],\n",
    "                                              document_topics[d])):\n",
    "            document_topic_counts[d][topic] -= 1\n",
    "            topic_word_counts[topic][word] -= 1\n",
    "            topic_counts[topic] -= 1\n",
    "            document_lengths[d] -= 1\n",
    "            new_topic = choose_new_topic(d, word)\n",
    "            document_topics[d][i] = new_topic\n",
    "            document_topic_counts[d][new_topic] += 1\n",
    "            topic_word_counts[new_topic][word] += 1\n",
    "            topic_counts[new_topic] += 1\n",
    "            document_lengths[d] += 1"
   ]
  },
  {
   "cell_type": "code",
   "execution_count": 12,
   "metadata": {
    "collapsed": false
   },
   "outputs": [
    {
     "name": "stdout",
     "output_type": "stream",
     "text": [
      "15\n",
      "4\n"
     ]
    }
   ],
   "source": [
    "print(len(document_topic_counts))\n",
    "print(len(topic_word_counts))"
   ]
  },
  {
   "cell_type": "code",
   "execution_count": 13,
   "metadata": {
    "collapsed": false
   },
   "outputs": [
    {
     "data": {
      "text/plain": [
       "[Counter({0: 7, 1: 0, 2: 0, 3: 0}),\n",
       " Counter({0: 0, 1: 5, 2: 0, 3: 0}),\n",
       " Counter({0: 0, 1: 2, 2: 2, 3: 2}),\n",
       " Counter({0: 0, 1: 0, 2: 2, 3: 3}),\n",
       " Counter({0: 0, 1: 2, 2: 2, 3: 0}),\n",
       " Counter({0: 3, 1: 0, 2: 3, 3: 0}),\n",
       " Counter({0: 0, 1: 0, 2: 1, 3: 3}),\n",
       " Counter({0: 0, 1: 2, 2: 2, 3: 0}),\n",
       " Counter({0: 1, 1: 3, 2: 0, 3: 0}),\n",
       " Counter({0: 4, 1: 0, 2: 0, 3: 0}),\n",
       " Counter({0: 0, 1: 0, 2: 0, 3: 3}),\n",
       " Counter({0: 1, 1: 0, 2: 0, 3: 3}),\n",
       " Counter({0: 0, 1: 0, 2: 0, 3: 3}),\n",
       " Counter({0: 0, 1: 5, 2: 0, 3: 0}),\n",
       " Counter({0: 0, 1: 0, 2: 3, 3: 0})]"
      ]
     },
     "execution_count": 13,
     "metadata": {},
     "output_type": "execute_result"
    }
   ],
   "source": [
    "document_topic_counts"
   ]
  },
  {
   "cell_type": "code",
   "execution_count": 3,
   "metadata": {
    "collapsed": false
   },
   "outputs": [
    {
     "data": {
      "text/plain": [
       "Counter({0: 7, 1: 0, 2: 0, 3: 0})"
      ]
     },
     "execution_count": 3,
     "metadata": {},
     "output_type": "execute_result"
    }
   ],
   "source": [
    "document_topic_counts[0]"
   ]
  },
  {
   "cell_type": "code",
   "execution_count": 4,
   "metadata": {
    "collapsed": false
   },
   "outputs": [
    {
     "data": {
      "text/plain": [
       "Counter({'Big Data': 3,\n",
       "         'C++': 1,\n",
       "         'Cassandra': 1,\n",
       "         'HBase': 1,\n",
       "         'Hadoop': 2,\n",
       "         'Haskell': 0,\n",
       "         'Java': 3,\n",
       "         'Mahout': 0,\n",
       "         'MapReduce': 1,\n",
       "         'MongoDB': 0,\n",
       "         'MySQL': 0,\n",
       "         'NoSQL': 0,\n",
       "         'Postgres': 0,\n",
       "         'Python': 0,\n",
       "         'R': 0,\n",
       "         'Spark': 1,\n",
       "         'Storm': 1,\n",
       "         'artificial intelligence': 0,\n",
       "         'databases': 0,\n",
       "         'decision trees': 0,\n",
       "         'deep learning': 1,\n",
       "         'libsvm': 0,\n",
       "         'machine learning': 0,\n",
       "         'mathematics': 0,\n",
       "         'neural networks': 0,\n",
       "         'numpy': 0,\n",
       "         'pandas': 0,\n",
       "         'probability': 0,\n",
       "         'programming languages': 1,\n",
       "         'regression': 0,\n",
       "         'scikit-learn': 0,\n",
       "         'scipy': 0,\n",
       "         'statistics': 0,\n",
       "         'statsmodels': 0,\n",
       "         'support vector machines': 0,\n",
       "         'theory': 0})"
      ]
     },
     "execution_count": 4,
     "metadata": {},
     "output_type": "execute_result"
    }
   ],
   "source": [
    "topic_word_counts[0]"
   ]
  },
  {
   "cell_type": "code",
   "execution_count": 5,
   "metadata": {
    "collapsed": false
   },
   "outputs": [
    {
     "data": {
      "text/plain": [
       "Counter({0: 0, 1: 5, 2: 0, 3: 0})"
      ]
     },
     "execution_count": 5,
     "metadata": {},
     "output_type": "execute_result"
    }
   ],
   "source": [
    "document_topic_counts[1]"
   ]
  },
  {
   "cell_type": "code",
   "execution_count": 7,
   "metadata": {
    "collapsed": false
   },
   "outputs": [
    {
     "data": {
      "text/plain": [
       "Counter({'Big Data': 0,\n",
       "         'C++': 0,\n",
       "         'Cassandra': 1,\n",
       "         'HBase': 2,\n",
       "         'Hadoop': 0,\n",
       "         'Haskell': 0,\n",
       "         'Java': 0,\n",
       "         'Mahout': 0,\n",
       "         'MapReduce': 0,\n",
       "         'MongoDB': 2,\n",
       "         'MySQL': 1,\n",
       "         'NoSQL': 1,\n",
       "         'Postgres': 2,\n",
       "         'Python': 0,\n",
       "         'R': 0,\n",
       "         'Spark': 0,\n",
       "         'Storm': 0,\n",
       "         'artificial intelligence': 1,\n",
       "         'databases': 1,\n",
       "         'decision trees': 1,\n",
       "         'deep learning': 1,\n",
       "         'libsvm': 0,\n",
       "         'machine learning': 2,\n",
       "         'mathematics': 0,\n",
       "         'neural networks': 2,\n",
       "         'numpy': 1,\n",
       "         'pandas': 0,\n",
       "         'probability': 0,\n",
       "         'programming languages': 0,\n",
       "         'regression': 0,\n",
       "         'scikit-learn': 0,\n",
       "         'scipy': 1,\n",
       "         'statistics': 0,\n",
       "         'statsmodels': 0,\n",
       "         'support vector machines': 0,\n",
       "         'theory': 0})"
      ]
     },
     "execution_count": 7,
     "metadata": {},
     "output_type": "execute_result"
    }
   ],
   "source": [
    "topic_word_counts[1]"
   ]
  },
  {
   "cell_type": "code",
   "execution_count": 14,
   "metadata": {
    "collapsed": false
   },
   "outputs": [
    {
     "data": {
      "text/plain": [
       "Counter({'Big Data': 0,\n",
       "         'C++': 0,\n",
       "         'Cassandra': 0,\n",
       "         'HBase': 0,\n",
       "         'Hadoop': 0,\n",
       "         'Haskell': 1,\n",
       "         'Java': 0,\n",
       "         'Mahout': 1,\n",
       "         'MapReduce': 0,\n",
       "         'MongoDB': 0,\n",
       "         'MySQL': 0,\n",
       "         'NoSQL': 0,\n",
       "         'Postgres': 0,\n",
       "         'Python': 2,\n",
       "         'R': 2,\n",
       "         'Spark': 0,\n",
       "         'Storm': 0,\n",
       "         'artificial intelligence': 0,\n",
       "         'databases': 0,\n",
       "         'decision trees': 0,\n",
       "         'deep learning': 0,\n",
       "         'libsvm': 2,\n",
       "         'machine learning': 0,\n",
       "         'mathematics': 1,\n",
       "         'neural networks': 0,\n",
       "         'numpy': 0,\n",
       "         'pandas': 0,\n",
       "         'probability': 0,\n",
       "         'programming languages': 0,\n",
       "         'regression': 3,\n",
       "         'scikit-learn': 2,\n",
       "         'scipy': 0,\n",
       "         'statistics': 0,\n",
       "         'statsmodels': 0,\n",
       "         'support vector machines': 1,\n",
       "         'theory': 0})"
      ]
     },
     "execution_count": 14,
     "metadata": {},
     "output_type": "execute_result"
    }
   ],
   "source": [
    "topic_word_counts[2]"
   ]
  },
  {
   "cell_type": "code",
   "execution_count": 15,
   "metadata": {
    "collapsed": false
   },
   "outputs": [
    {
     "data": {
      "text/plain": [
       "Counter({'Big Data': 0,\n",
       "         'C++': 1,\n",
       "         'Cassandra': 0,\n",
       "         'HBase': 0,\n",
       "         'Hadoop': 0,\n",
       "         'Haskell': 0,\n",
       "         'Java': 0,\n",
       "         'Mahout': 0,\n",
       "         'MapReduce': 0,\n",
       "         'MongoDB': 0,\n",
       "         'MySQL': 0,\n",
       "         'NoSQL': 0,\n",
       "         'Postgres': 0,\n",
       "         'Python': 2,\n",
       "         'R': 2,\n",
       "         'Spark': 0,\n",
       "         'Storm': 0,\n",
       "         'artificial intelligence': 1,\n",
       "         'databases': 0,\n",
       "         'decision trees': 0,\n",
       "         'deep learning': 0,\n",
       "         'libsvm': 0,\n",
       "         'machine learning': 0,\n",
       "         'mathematics': 0,\n",
       "         'neural networks': 0,\n",
       "         'numpy': 0,\n",
       "         'pandas': 2,\n",
       "         'probability': 3,\n",
       "         'programming languages': 0,\n",
       "         'regression': 0,\n",
       "         'scikit-learn': 0,\n",
       "         'scipy': 0,\n",
       "         'statistics': 3,\n",
       "         'statsmodels': 2,\n",
       "         'support vector machines': 0,\n",
       "         'theory': 1})"
      ]
     },
     "execution_count": 15,
     "metadata": {},
     "output_type": "execute_result"
    }
   ],
   "source": [
    "topic_word_counts[3]"
   ]
  }
 ],
 "metadata": {
  "kernelspec": {
   "display_name": "Python 3",
   "language": "python",
   "name": "python3"
  },
  "language_info": {
   "codemirror_mode": {
    "name": "ipython",
    "version": 3
   },
   "file_extension": ".py",
   "mimetype": "text/x-python",
   "name": "python",
   "nbconvert_exporter": "python",
   "pygments_lexer": "ipython3",
   "version": "3.6.7"
  }
 },
 "nbformat": 4,
 "nbformat_minor": 2
}
